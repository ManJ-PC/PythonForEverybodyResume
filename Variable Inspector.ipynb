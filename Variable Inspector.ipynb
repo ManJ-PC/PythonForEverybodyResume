{
  "cells": [
    {
      "cell_type": "markdown",
      "metadata": {
        "id": "tA-WwDmzV8_C"
      },
      "source": [
        "# Variable Inspector Widget"
      ]
    },
    {
      "cell_type": "markdown",
      "metadata": {
        "id": "mw8zlBJFV8_E"
      },
      "source": [
        "## A short example implementation"
      ]
    },
    {
      "cell_type": "markdown",
      "metadata": {
        "id": "kmhO4Vz8V8_F"
      },
      "source": [
        "This notebook demonstrates how one can use the widgets already built in to IPython to create a working variable inspector much like the ones seen in popular commercial scientific computing environments."
      ]
    },
    {
      "cell_type": "code",
      "execution_count": 11,
      "metadata": {
        "id": "Y_BGZF24V8_F"
      },
      "outputs": [],
      "source": [
        "import ipywidgets as widgets # Loads the Widget framework.\n",
        "from IPython.core.magics.namespace import NamespaceMagics # Used to query namespace.\n",
        "\n",
        "# For this example, hide these names, just to avoid polluting the namespace further\n",
        "get_ipython().user_ns_hidden['widgets'] = widgets\n",
        "get_ipython().user_ns_hidden['NamespaceMagics'] = NamespaceMagics"
      ]
    },
    {
      "cell_type": "code",
      "execution_count": 12,
      "metadata": {
        "id": "leS__NxhV8_G"
      },
      "outputs": [],
      "source": [
        "class VariableInspectorWindow(object):\n",
        "    instance = None\n",
        "\n",
        "    def __init__(self, ipython):\n",
        "        \"\"\"Public constructor.\"\"\"\n",
        "        if VariableInspectorWindow.instance is not None:\n",
        "            raise Exception(\"\"\"Only one instance of the Variable Inspector can exist at a\n",
        "                time.  Call close() on the active instance before creating a new instance.\n",
        "                If you have lost the handle to the active instance, you can re-obtain it\n",
        "                via `VariableInspectorWindow.instance`.\"\"\")\n",
        "\n",
        "        VariableInspectorWindow.instance = self\n",
        "        self.closed = False\n",
        "        self.namespace = NamespaceMagics()\n",
        "        self.namespace.shell = ipython.kernel.shell\n",
        "\n",
        "        self._box = widgets.Box()\n",
        "        self._box.layout.overflow_y = 'scroll'\n",
        "        self._table = widgets.HTML(value = 'Not hooked')\n",
        "        self._box.children = [self._table]\n",
        "\n",
        "        self._ipython = ipython\n",
        "        self._ipython.events.register('post_run_cell', self._fill)\n",
        "\n",
        "    def close(self):\n",
        "        \"\"\"Close and remove hooks.\"\"\"\n",
        "        if not self.closed:\n",
        "            self._ipython.events.unregister('post_run_cell', self._fill)\n",
        "            self._box.close()\n",
        "            self.closed = True\n",
        "            VariableInspectorWindow.instance = None\n",
        "\n",
        "    def _fill(self, _result):\n",
        "        \"\"\"Fill self with variable information.\"\"\"\n",
        "        values = self.namespace.who_ls()\n",
        "        self._table.value = '<div class=\"rendered_html jp-RenderedHTMLCommon\"><table><thead><tr><th>Name</th><th>Type</th><th>Value</th></tr></thead><tr><td>' + \\\n",
        "            '</td></tr><tr><td>'.join(['{0}</td><td>{1}</td><td>{2}'.format(v, type(eval(v)).__name__, str(eval(v))) for v in values]) + \\\n",
        "            '</td></tr></table></div>'\n",
        "\n",
        "    def _ipython_display_(self):\n",
        "        \"\"\"Called when display() or pyout is used to display the Variable\n",
        "        Inspector.\"\"\"\n",
        "        self._box._ipython_display_()\n"
      ]
    },
    {
      "cell_type": "code",
      "execution_count": 13,
      "metadata": {
        "colab": {
          "base_uri": "https://localhost:8080/",
          "height": 211,
          "referenced_widgets": [
            "58bb757be3294055a5ca8b8f898dfdb1",
            "72e810f267674af596b57b8c97474f84",
            "1c0cafd1ea2b43b8b5499e5f7ea1a965",
            "727ba776f57c4093b7fdba0a4e0e41d8",
            "04658d0f4abd464aa30183935cac6c6a"
          ]
        },
        "id": "ejWrRj0DV8_G",
        "outputId": "e7928aba-1a91-489a-97d5-17fd2acff86d"
      },
      "outputs": [
        {
          "output_type": "display_data",
          "data": {
            "text/plain": [
              "Box(children=(HTML(value='Not hooked'),), layout=Layout(overflow_y='scroll'))"
            ],
            "application/vnd.jupyter.widget-view+json": {
              "version_major": 2,
              "version_minor": 0,
              "model_id": "58bb757be3294055a5ca8b8f898dfdb1"
            }
          },
          "metadata": {}
        }
      ],
      "source": [
        "inspector = VariableInspectorWindow(get_ipython())\n",
        "inspector"
      ]
    },
    {
      "cell_type": "markdown",
      "metadata": {
        "id": "TH7hrZJsV8_H"
      },
      "source": [
        "# Test"
      ]
    },
    {
      "cell_type": "code",
      "execution_count": 14,
      "metadata": {
        "id": "Cibjg1aAV8_H"
      },
      "outputs": [],
      "source": [
        "a = 5"
      ]
    },
    {
      "cell_type": "code",
      "execution_count": 15,
      "metadata": {
        "id": "3OUKRodDV8_H"
      },
      "outputs": [],
      "source": [
        "b = 3.0"
      ]
    },
    {
      "cell_type": "code",
      "execution_count": 16,
      "metadata": {
        "id": "un5-N0BZV8_H"
      },
      "outputs": [],
      "source": [
        "c = a * b"
      ]
    },
    {
      "cell_type": "code",
      "execution_count": 17,
      "metadata": {
        "id": "kND33OA6V8_H"
      },
      "outputs": [],
      "source": [
        "d = \"String\""
      ]
    },
    {
      "cell_type": "code",
      "execution_count": 18,
      "metadata": {
        "id": "92TBljDxV8_I"
      },
      "outputs": [],
      "source": [
        "del b"
      ]
    },
    {
      "cell_type": "code",
      "execution_count": 19,
      "metadata": {
        "id": "m35XbZIeV8_I"
      },
      "outputs": [],
      "source": [
        "#inspector.close()"
      ]
    },
    {
      "cell_type": "code",
      "execution_count": 19,
      "metadata": {
        "id": "wVtRRpR4V8_I"
      },
      "outputs": [],
      "source": []
    }
  ],
  "metadata": {
    "kernelspec": {
      "display_name": "Python 3",
      "language": "python",
      "name": "python3"
    },
    "language_info": {
      "codemirror_mode": {
        "name": "ipython",
        "version": 3
      },
      "file_extension": ".py",
      "mimetype": "text/x-python",
      "name": "python",
      "nbconvert_exporter": "python",
      "pygments_lexer": "ipython3",
      "version": "3.6.2"
    },
    "colab": {
      "provenance": [],
      "toc_visible": true
    },
    "widgets": {
      "application/vnd.jupyter.widget-state+json": {
        "58bb757be3294055a5ca8b8f898dfdb1": {
          "model_module": "@jupyter-widgets/controls",
          "model_name": "BoxModel",
          "model_module_version": "1.5.0",
          "state": {
            "_dom_classes": [],
            "_model_module": "@jupyter-widgets/controls",
            "_model_module_version": "1.5.0",
            "_model_name": "BoxModel",
            "_view_count": null,
            "_view_module": "@jupyter-widgets/controls",
            "_view_module_version": "1.5.0",
            "_view_name": "BoxView",
            "box_style": "",
            "children": [
              "IPY_MODEL_72e810f267674af596b57b8c97474f84"
            ],
            "layout": "IPY_MODEL_1c0cafd1ea2b43b8b5499e5f7ea1a965"
          }
        },
        "72e810f267674af596b57b8c97474f84": {
          "model_module": "@jupyter-widgets/controls",
          "model_name": "HTMLModel",
          "model_module_version": "1.5.0",
          "state": {
            "_dom_classes": [],
            "_model_module": "@jupyter-widgets/controls",
            "_model_module_version": "1.5.0",
            "_model_name": "HTMLModel",
            "_view_count": null,
            "_view_module": "@jupyter-widgets/controls",
            "_view_module_version": "1.5.0",
            "_view_name": "HTMLView",
            "description": "",
            "description_tooltip": null,
            "layout": "IPY_MODEL_727ba776f57c4093b7fdba0a4e0e41d8",
            "placeholder": "​",
            "style": "IPY_MODEL_04658d0f4abd464aa30183935cac6c6a",
            "value": "<div class=\"rendered_html jp-RenderedHTMLCommon\"><table><thead><tr><th>Name</th><th>Type</th><th>Value</th></tr></thead><tr><td>VariableInspectorWindow</td><td>type</td><td><class '__main__.VariableInspectorWindow'></td></tr><tr><td>a</td><td>int</td><td>5</td></tr><tr><td>c</td><td>float</td><td>15.0</td></tr><tr><td>d</td><td>str</td><td>String</td></tr><tr><td>inspector</td><td>VariableInspectorWindow</td><td><__main__.VariableInspectorWindow object at 0x7c17dc14bc40></td></tr></table></div>"
          }
        },
        "1c0cafd1ea2b43b8b5499e5f7ea1a965": {
          "model_module": "@jupyter-widgets/base",
          "model_name": "LayoutModel",
          "model_module_version": "1.2.0",
          "state": {
            "_model_module": "@jupyter-widgets/base",
            "_model_module_version": "1.2.0",
            "_model_name": "LayoutModel",
            "_view_count": null,
            "_view_module": "@jupyter-widgets/base",
            "_view_module_version": "1.2.0",
            "_view_name": "LayoutView",
            "align_content": null,
            "align_items": null,
            "align_self": null,
            "border": null,
            "bottom": null,
            "display": null,
            "flex": null,
            "flex_flow": null,
            "grid_area": null,
            "grid_auto_columns": null,
            "grid_auto_flow": null,
            "grid_auto_rows": null,
            "grid_column": null,
            "grid_gap": null,
            "grid_row": null,
            "grid_template_areas": null,
            "grid_template_columns": null,
            "grid_template_rows": null,
            "height": null,
            "justify_content": null,
            "justify_items": null,
            "left": null,
            "margin": null,
            "max_height": null,
            "max_width": null,
            "min_height": null,
            "min_width": null,
            "object_fit": null,
            "object_position": null,
            "order": null,
            "overflow": null,
            "overflow_x": null,
            "overflow_y": "scroll",
            "padding": null,
            "right": null,
            "top": null,
            "visibility": null,
            "width": null
          }
        },
        "727ba776f57c4093b7fdba0a4e0e41d8": {
          "model_module": "@jupyter-widgets/base",
          "model_name": "LayoutModel",
          "model_module_version": "1.2.0",
          "state": {
            "_model_module": "@jupyter-widgets/base",
            "_model_module_version": "1.2.0",
            "_model_name": "LayoutModel",
            "_view_count": null,
            "_view_module": "@jupyter-widgets/base",
            "_view_module_version": "1.2.0",
            "_view_name": "LayoutView",
            "align_content": null,
            "align_items": null,
            "align_self": null,
            "border": null,
            "bottom": null,
            "display": null,
            "flex": null,
            "flex_flow": null,
            "grid_area": null,
            "grid_auto_columns": null,
            "grid_auto_flow": null,
            "grid_auto_rows": null,
            "grid_column": null,
            "grid_gap": null,
            "grid_row": null,
            "grid_template_areas": null,
            "grid_template_columns": null,
            "grid_template_rows": null,
            "height": null,
            "justify_content": null,
            "justify_items": null,
            "left": null,
            "margin": null,
            "max_height": null,
            "max_width": null,
            "min_height": null,
            "min_width": null,
            "object_fit": null,
            "object_position": null,
            "order": null,
            "overflow": null,
            "overflow_x": null,
            "overflow_y": null,
            "padding": null,
            "right": null,
            "top": null,
            "visibility": null,
            "width": null
          }
        },
        "04658d0f4abd464aa30183935cac6c6a": {
          "model_module": "@jupyter-widgets/controls",
          "model_name": "DescriptionStyleModel",
          "model_module_version": "1.5.0",
          "state": {
            "_model_module": "@jupyter-widgets/controls",
            "_model_module_version": "1.5.0",
            "_model_name": "DescriptionStyleModel",
            "_view_count": null,
            "_view_module": "@jupyter-widgets/base",
            "_view_module_version": "1.2.0",
            "_view_name": "StyleView",
            "description_width": ""
          }
        }
      }
    }
  },
  "nbformat": 4,
  "nbformat_minor": 0
}