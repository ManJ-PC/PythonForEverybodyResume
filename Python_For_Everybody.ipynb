{
  "nbformat": 4,
  "nbformat_minor": 0,
  "metadata": {
    "colab": {
      "provenance": [],
      "authorship_tag": "ABX9TyMxmIVwX/Rwg526jlAlyWcC",
      "include_colab_link": true
    },
    "kernelspec": {
      "name": "python3",
      "display_name": "Python 3"
    },
    "language_info": {
      "name": "python"
    }
  },
  "cells": [
    {
      "cell_type": "markdown",
      "metadata": {
        "id": "view-in-github",
        "colab_type": "text"
      },
      "source": [
        "<a href=\"https://colab.research.google.com/github/ManJ-PC/PythonForEverybodyResume/blob/main/Python_For_Everybody.ipynb\" target=\"_parent\"><img src=\"https://colab.research.google.com/assets/colab-badge.svg\" alt=\"Open In Colab\"/></a>"
      ]
    },
    {
      "cell_type": "markdown",
      "source": [
        "Assignment 1,\n",
        "\n",
        "Typycal Hello World\n"
      ],
      "metadata": {
        "id": "3tOPMaR1owyB"
      }
    },
    {
      "cell_type": "code",
      "execution_count": null,
      "metadata": {
        "colab": {
          "base_uri": "https://localhost:8080/"
        },
        "id": "kMToDs28k10l",
        "outputId": "21e53eaa-85d7-4a44-a2a4-fd59b3f53a97"
      },
      "outputs": [
        {
          "output_type": "stream",
          "name": "stdout",
          "text": [
            "Hello World Chuck\n"
          ]
        }
      ],
      "source": [
        "print('Hello World Chuck')"
      ]
    },
    {
      "cell_type": "markdown",
      "source": [
        "Assignment 2.1,"
      ],
      "metadata": {
        "id": "Kof7sW9CoFjM"
      }
    },
    {
      "cell_type": "code",
      "source": [
        "# Python for everybody\n",
        "\n",
        "# Floor in United States\n",
        "\n",
        "#f_us = f_eu + 1\n",
        "\n",
        "zone = input('Which continent you are?: ')\n",
        "while zone not in ['us', 'eu']:\n",
        "  zone = input('Which continent you are?: ')\n",
        "floor = int(input('How many floors you are distance for entrance if you down say negative: '))\n",
        "if zone == 'us':\n",
        "  floor += 1\n",
        "\n",
        "print('You are in ', floor, 'floor')"
      ],
      "metadata": {
        "colab": {
          "base_uri": "https://localhost:8080/"
        },
        "id": "YzD6wHhjlBm8",
        "outputId": "09b6acf4-bd0f-438c-811a-68e954c498a8"
      },
      "execution_count": null,
      "outputs": [
        {
          "output_type": "stream",
          "name": "stdout",
          "text": [
            "Which continent you are?: eu\n",
            "How many floors you are distance for entrance if you down say negative: -6\n",
            "You are in  -6 floor\n"
          ]
        }
      ]
    },
    {
      "cell_type": "markdown",
      "source": [
        "Assignment 2.2,\n",
        "\n",
        "Write a program that uses **input** to prompt a user for their name and then welcomes them. Note that **input** will pop up a dialog box. Enter **Sarah** in the pop-up box when you are prompted so your output will match the desired output.\n",
        "\n",
        "\n",
        "by: https://www.quizerry.com/2020/10/assignment%202-2-week-4-programming-for-everybody-getting%20started%20with%20python-by-coursera/"
      ],
      "metadata": {
        "id": "rSRGoR38qRyZ"
      }
    },
    {
      "cell_type": "code",
      "source": [
        "name = input('What\"s is your name? ')\n",
        "print('\\nWelcome ', name, '!')"
      ],
      "metadata": {
        "colab": {
          "base_uri": "https://localhost:8080/"
        },
        "id": "ZfXDtlI3qXZ3",
        "outputId": "c919caee-6d28-42bc-e4b9-48bde5272549"
      },
      "execution_count": null,
      "outputs": [
        {
          "output_type": "stream",
          "name": "stdout",
          "text": [
            "\n",
            "Welcome  Sara !\n"
          ]
        }
      ]
    },
    {
      "cell_type": "code",
      "source": [],
      "metadata": {
        "id": "PQl3P1TqqA1a"
      },
      "execution_count": null,
      "outputs": []
    },
    {
      "cell_type": "markdown",
      "source": [
        "Write a program to prompt the user for hours and rate per hour using input to compute gross pay. Use 35 hours and a rate of 2.75 per hour to test the program (the pay should be 96.25). You should use **input** to read a string and **float()** to convert the string to a number. Do not worry about error checking or bad user data."
      ],
      "metadata": {
        "id": "iMqDzdYTlQlb"
      }
    },
    {
      "cell_type": "code",
      "source": [
        "name = input(\"What is your name? \")\n",
        "hours = 35\n",
        "rate_by_hour = 2.75\n",
        "print(name + ' should be receive: ', float(hours * rate_by_hour))\n"
      ],
      "metadata": {
        "colab": {
          "base_uri": "https://localhost:8080/"
        },
        "id": "pLRvhaOCoBul",
        "outputId": "56576bdd-d725-4b4c-f310-fd9d6480bdee"
      },
      "execution_count": null,
      "outputs": [
        {
          "output_type": "stream",
          "name": "stdout",
          "text": [
            "What is your name? Hilton\n",
            "Hilton should be receive:  96.25\n"
          ]
        }
      ]
    },
    {
      "cell_type": "code",
      "source": [],
      "metadata": {
        "id": "FUmzS3PilM7l"
      },
      "execution_count": null,
      "outputs": []
    }
  ]
}